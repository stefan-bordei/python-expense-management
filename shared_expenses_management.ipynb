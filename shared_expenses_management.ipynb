{
 "cells": [
  {
   "cell_type": "markdown",
   "metadata": {},
   "source": [
    "# Shared expenses tracking and management\n",
    "### Stefan-Cristian Bordei"
   ]
  },
  {
   "cell_type": "markdown",
   "metadata": {},
   "source": [
    "# Code"
   ]
  },
  {
   "cell_type": "code",
   "execution_count": 1,
   "metadata": {},
   "outputs": [],
   "source": [
    "import sys\n",
    "\n",
    "\n",
    "class Member:\n",
    "    \"\"\"\n",
    "    Class constructor for members.\n",
    "    \n",
    "    :param name: identifier.\n",
    "    :param balance: initialized with the value 0.\n",
    "    \n",
    "    \"\"\"\n",
    "    def __init__(self, name, balance=0):\n",
    "        self.name = name\n",
    "        self.balance = balance\n",
    "\n",
    "    def print_balance(self):\n",
    "        print(\"%s has balance: €%.2f\" % (self.name, self.balance))"
   ]
  },
  {
   "cell_type": "code",
   "execution_count": 2,
   "metadata": {},
   "outputs": [],
   "source": [
    "class Transaction:\n",
    "    \"\"\"\n",
    "    Class for each transaction.\n",
    "    \n",
    "    :param name: identifier.\n",
    "    :param amount: int/float.\n",
    "    :param payee: Member identifier.\n",
    "    \n",
    "    \"\"\"\n",
    "    def __init__(self, name, amount, payee):\n",
    "        self.name = name\n",
    "        self.amount = amount\n",
    "        self.payee = payee\n"
   ]
  },
  {
   "cell_type": "code",
   "execution_count": 3,
   "metadata": {},
   "outputs": [],
   "source": [
    "class Event:\n",
    "    def __init__(self, name, members):\n",
    "        \"\"\"\n",
    "        This is a class for events tracking transactions of participating members.\n",
    "        \n",
    "        :param name: identifier\n",
    "        :param members: list, participating members\n",
    "        \n",
    "        \"\"\"\n",
    "        self.name = name\n",
    "        names = []\n",
    "        for member in members:\n",
    "            names.append(member.name)\n",
    "        if len(set(names)) < len(members):\n",
    "            sys.exit(\"A member name is added more than once.\")\n",
    "\n",
    "        self.members = members\n",
    "        self.transactions = []\n",
    "        self.amount = 0\n",
    "\n",
    "    def add_transaction(self, name, amount, payee):\n",
    "        \n",
    "        # Before adding a transaction check:\n",
    "        # -the payee is an event participant\n",
    "        # -the amount entered is a positive number\n",
    "        \n",
    "        try:\n",
    "            val = round(float(amount), 2)\n",
    "            if val <= 0:\n",
    "                raise ValueError(\"Negative amount:\", val)\n",
    "            if payee not in self.members:\n",
    "                raise NameError(\"Payee not an event participant.\")\n",
    "\n",
    "            transaction = Transaction(name, val, payee)\n",
    "            self.transactions.append(transaction)\n",
    "            self.amount += val\n",
    "            per_member = val / len(self.members)\n",
    "            for member in self.members:\n",
    "                if payee == member:\n",
    "                    member.balance += (val - per_member)\n",
    "                else:\n",
    "                    member.balance -= per_member\n",
    "        except Exception as e:\n",
    "            print(\"Transaction error: {}\".format(e))\n",
    "            print(\"Skipping transaction...\")\n",
    "\n",
    "    def print_balance(self):\n",
    "        reconcile_val = self.amount / len(self.members)\n",
    "        print(\"Total: €%.2f, that is €%.2f each.\" % (self.amount, reconcile_val))\n",
    "        print()\n",
    "        for m in self.members:\n",
    "            m.print_balance()\n",
    "\n",
    "    def reconcile(self):\n",
    "        self.print_balance()\n",
    "        print()\n",
    "\n",
    "        for x in self.members:\n",
    "            if x.balance <= 0:\n",
    "                continue\n",
    "\n",
    "            for y in self.members:\n",
    "                if y.balance > 0:\n",
    "                    continue\n",
    "\n",
    "                amount = min(-y.balance, x.balance)\n",
    "                if amount == 0:\n",
    "                    continue\n",
    "                print('{} pays {} €{:.2f}'.format(y.name, x.name, amount))\n",
    "                y.balance += amount\n",
    "                x.balance -= amount"
   ]
  },
  {
   "cell_type": "markdown",
   "metadata": {},
   "source": [
    "# Running the code on samples provided"
   ]
  },
  {
   "cell_type": "markdown",
   "metadata": {},
   "source": [
    "### Sample 1"
   ]
  },
  {
   "cell_type": "code",
   "execution_count": 4,
   "metadata": {},
   "outputs": [
    {
     "name": "stdout",
     "output_type": "stream",
     "text": [
      "Total: €290.00, that is €96.67 each.\n",
      "\n",
      "Annie has balance: €83.33\n",
      "Bill has balance: €-61.67\n",
      "Sally has balance: €-21.67\n",
      "\n",
      "Bill pays Annie €61.67\n",
      "Sally pays Annie €21.67\n"
     ]
    }
   ],
   "source": [
    "annie = Member('Annie')\n",
    "sally = Member('Sally')\n",
    "bill = Member('Bill')\n",
    "\n",
    "concert = Event('Concert', [annie, bill, sally])\n",
    "concert.add_transaction('tickets', 180, annie)\n",
    "concert.add_transaction('dinner', 75, sally)\n",
    "concert.add_transaction('drinks', 19, bill)\n",
    "concert.add_transaction('taxi', 16, bill)\n",
    "\n",
    "concert.reconcile()"
   ]
  },
  {
   "cell_type": "markdown",
   "metadata": {},
   "source": [
    "### Sample 2"
   ]
  },
  {
   "cell_type": "code",
   "execution_count": 5,
   "metadata": {},
   "outputs": [
    {
     "name": "stdout",
     "output_type": "stream",
     "text": [
      "Total: €141.00, that is €47.00 each.\n",
      "\n",
      "Cathy has balance: €-14.00\n",
      "Robin has balance: €13.00\n",
      "Jen has balance: €1.00\n",
      "\n",
      "Cathy pays Robin €13.00\n",
      "Cathy pays Jen €1.00\n"
     ]
    }
   ],
   "source": [
    "cathy = Member('Cathy')\n",
    "robin = Member('Robin')\n",
    "jen = Member('Jen')\n",
    "\n",
    "concert = Event('Cinema', [cathy, robin, jen])\n",
    "concert.add_transaction('tickets', 33, cathy)\n",
    "concert.add_transaction('dinner', 60, robin)\n",
    "concert.add_transaction('drinks', 21, jen)\n",
    "concert.add_transaction('taxi', 27, jen)\n",
    "\n",
    "concert.reconcile()"
   ]
  },
  {
   "cell_type": "markdown",
   "metadata": {},
   "source": [
    "### Sample 3"
   ]
  },
  {
   "cell_type": "code",
   "execution_count": 6,
   "metadata": {},
   "outputs": [
    {
     "name": "stdout",
     "output_type": "stream",
     "text": [
      "Total: €365.00, that is €91.25 each.\n",
      "\n",
      "Nora has balance: €18.75\n",
      "Eva has balance: €-31.25\n",
      "Frankie has balance: €33.75\n",
      "Harry has balance: €-21.25\n",
      "\n",
      "Eva pays Nora €18.75\n",
      "Eva pays Frankie €12.50\n",
      "Harry pays Frankie €21.25\n"
     ]
    }
   ],
   "source": [
    "nora = Member('Nora')\n",
    "eva = Member('Eva')\n",
    "frankie = Member('Frankie')\n",
    "harry = Member('Harry')\n",
    "\n",
    "concert = Event('Weekend trip', [nora, eva, frankie, harry])\n",
    "concert.add_transaction('dinner Fri', 110, nora)\n",
    "concert.add_transaction('lunch Sat', 60, eva)\n",
    "concert.add_transaction('dinner', 125, frankie)\n",
    "concert.add_transaction('lunch Sun', 70, harry)\n",
    "\n",
    "concert.reconcile()"
   ]
  }
 ],
 "metadata": {
  "kernelspec": {
   "display_name": "Python 3",
   "language": "python",
   "name": "python3"
  },
  "language_info": {
   "codemirror_mode": {
    "name": "ipython",
    "version": 3
   },
   "file_extension": ".py",
   "mimetype": "text/x-python",
   "name": "python",
   "nbconvert_exporter": "python",
   "pygments_lexer": "ipython3",
   "version": "3.8.5"
  }
 },
 "nbformat": 4,
 "nbformat_minor": 4
}
